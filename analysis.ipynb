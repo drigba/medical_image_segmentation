{
 "cells": [
  {
   "cell_type": "code",
   "execution_count": null,
   "metadata": {},
   "outputs": [],
   "source": [
    "import nibabel as nib\n",
    "import matplotlib.pyplot as plt\n",
    "import numpy as np\n",
    "import cv2\n",
    "from utils.data_utils.acdc_datamodule import ACDCDataModule\n"
   ]
  },
  {
   "cell_type": "code",
   "execution_count": null,
   "metadata": {},
   "outputs": [],
   "source": [
    "path = \"database/training/patient001/patient001_frame01_gt.nii.gz\"\n",
    "p001_gt = nib.load(path).get_fdata()\n",
    "p001_gt = np.transpose(p001_gt, (2,0,1) )\n",
    "\n",
    "p001_gt.shape"
   ]
  },
  {
   "cell_type": "code",
   "execution_count": null,
   "metadata": {},
   "outputs": [],
   "source": [
    "path = \"database/training/patient001/patient001_frame01.nii.gz\"\n",
    "p001_img = nib.load(path).get_fdata()\n",
    "p001_img = np.transpose(p001_img, (2,0,1) )\n",
    "\n",
    "p001_img.shape"
   ]
  },
  {
   "cell_type": "code",
   "execution_count": null,
   "metadata": {},
   "outputs": [],
   "source": [
    "plt.imshow(p001_img[1])"
   ]
  },
  {
   "cell_type": "code",
   "execution_count": null,
   "metadata": {},
   "outputs": [],
   "source": [
    "plt.imshow(p001_gt[1])"
   ]
  },
  {
   "cell_type": "code",
   "execution_count": null,
   "metadata": {},
   "outputs": [],
   "source": [
    "# split the multi-class masks into submasks\n",
    "mask0 = np.where(p001_gt[:,:] == 0, 1,0)\n",
    "mask1 = np.where(p001_gt[:,:] == 1, 1,0)\n",
    "mask2 = np.where(p001_gt[:,:] == 2, 1,0)\n",
    "mask3 = np.where(p001_gt[:,:] == 3, 1,0)\n",
    "masked_img_0 = p001_img * mask0\n",
    "masked_img_1 = p001_img * mask1\n",
    "masked_img_2 = p001_img * mask2\n",
    "masked_img_3 = p001_img * mask3\n",
    "masked_images = [masked_img_0, masked_img_1, masked_img_2, masked_img_3]\n",
    "masked_images[0].shape\n",
    "masks = [mask0, mask1, mask2, mask3]\n"
   ]
  },
  {
   "cell_type": "code",
   "execution_count": null,
   "metadata": {
    "scrolled": true
   },
   "outputs": [],
   "source": [
    "plt.style.use('default')\n",
    "fig, axes = plt.subplots(2,2, figsize=(12,12))\n",
    "for i, ax in enumerate(axes.reshape(-1)):\n",
    "    ax.imshow(masked_images[i][1])\n",
    "plt.show()"
   ]
  },
  {
   "cell_type": "code",
   "execution_count": null,
   "metadata": {},
   "outputs": [],
   "source": [
    "def visualize(image_raw,mask):\n",
    "    \"\"\"\n",
    "    iamge_raw:gray image with shape [width,height,1]\n",
    "    mask: segment mask image with shape [num_class,width,height]\n",
    "    this function return an image using multi color to visualize masks in raw image\n",
    "    \"\"\"\n",
    "    # Convert grayscale image to RGB\n",
    "    image = cv2.cvtColor(image_raw, cv2.COLOR_GRAY2RGB)\n",
    "    \n",
    "    # Get the number of classes (i.e. channels) in the mask\n",
    "    num_class = mask.shape[0]\n",
    "    \n",
    "    # Define colors for each class (using a simple color map)\n",
    "    colors = []\n",
    "    for i in range(1, num_class):  # skip first class (background)\n",
    "        hue = int(i/float(num_class-1) * 179)\n",
    "        color = np.zeros((1, 1, 3), dtype=np.uint8)\n",
    "        color[0, 0, 0] = hue\n",
    "        color[0, 0, 1:] = 255\n",
    "        color = cv2.cvtColor(color, cv2.COLOR_HSV2RGB)\n",
    "        colors.append(color)\n",
    "\n",
    "    # Overlay each non-background class mask with a different color on the original image\n",
    "    for i in range(1, num_class):\n",
    "        class_mask = mask[i, :, :]\n",
    "        class_mask = np.repeat(class_mask[:, :, np.newaxis], 3, axis=2)\n",
    "        class_mask = class_mask.astype(image.dtype)\n",
    "        class_mask = class_mask * colors[i-1]\n",
    "        image = cv2.addWeighted(image, 1.0, class_mask, 0.5, 0.0)\n",
    "\n",
    "    return image"
   ]
  },
  {
   "cell_type": "code",
   "execution_count": null,
   "metadata": {},
   "outputs": [],
   "source": [
    "masks = np.array(masks)\n",
    "masks = np.transpose(masks, (1,0,2,3))\n",
    "normalized_image = cv2.normalize(p001_img[1], None, 0, 255, cv2.NORM_MINMAX)\n",
    "normalized_image = normalized_image.astype(np.uint8)\n",
    "vis_img = visualize(normalized_image, masks[1])\n",
    "\n",
    "plt.imshow(vis_img)"
   ]
  },
  {
   "cell_type": "code",
   "execution_count": null,
   "metadata": {},
   "outputs": [],
   "source": [
    "plt.style.use('default')\n",
    "fig, axes = plt.subplots(5,6, figsize=(16,12))\n",
    "for i, ax in enumerate(axes.reshape(-1)):\n",
    "    if i % 3 == 0:\n",
    "        ax.imshow(p001_img[i//3,:,:])\n",
    "    elif i % 3 == 1:\n",
    "        ax.imshow(p001_gt[i//3,:,:])\n",
    "    else:\n",
    "        normalized_image = cv2.normalize(p001_img[i//3], None, 0, 255, cv2.NORM_MINMAX)\n",
    "        normalized_image = normalized_image.astype(np.uint8)\n",
    "        vis_img = visualize(normalized_image, masks[i//3])\n",
    "        ax.imshow(vis_img)\n",
    "plt.show()"
   ]
  },
  {
   "cell_type": "code",
   "execution_count": null,
   "metadata": {},
   "outputs": [],
   "source": [
    "np.count_nonzero((p001_gt[1,:,:] == 0))\n",
    "size = p001_gt[0].shape\n",
    "size[0]*size[1]"
   ]
  },
  {
   "cell_type": "code",
   "execution_count": null,
   "metadata": {},
   "outputs": [],
   "source": [
    "from utils.data_utils.data_utils import get_images_with_info\n",
    "acdc_data = get_images_with_info(\"database/training\")\n",
    "acdc_test = get_images_with_info(\"database/testing\")"
   ]
  },
  {
   "cell_type": "code",
   "execution_count": null,
   "metadata": {},
   "outputs": [],
   "source": [
    "print('Number of learning images: ' + str(len(acdc_data[0])))"
   ]
  },
  {
   "cell_type": "code",
   "execution_count": null,
   "metadata": {},
   "outputs": [],
   "source": [
    "print('Number of testing images: ' + str(len(acdc_test[0])))"
   ]
  },
  {
   "cell_type": "markdown",
   "metadata": {},
   "source": [
    "## Infos about the patients\n",
    "\n",
    "For each patient there is a 4D data which contains 12-35 record and we can see the exact value of this number in the NbFrame value. The fourth dimension means the time, and for each record we have about 10 frames spaced vertically.\n",
    "\n",
    "We have 2 labeled records from these, one when the heart is full of blood (ED) and one when its not (ES).\n",
    "The value for the ED and ES infos show which record it is.\n",
    "\n",
    "Also we have 5 different groups of patients based on there healt, and we have information about their weight and height."
   ]
  },
  {
   "cell_type": "code",
   "execution_count": null,
   "metadata": {},
   "outputs": [],
   "source": [
    "import pandas as pd\n",
    "info_df = pd.DataFrame.from_dict(acdc_data[2])\n",
    "\n",
    "types = ['int64', 'int64', 'string', 'float32', 'int64', 'float32']\n",
    "column_types_dict = dict(zip(info_df.columns, types))\n",
    "\n",
    "info_df = info_df.astype(column_types_dict)"
   ]
  },
  {
   "cell_type": "code",
   "execution_count": null,
   "metadata": {},
   "outputs": [],
   "source": [
    "fig, axes = plt.subplots(2,3, figsize=(16,12))\n",
    "for i, ax in enumerate(axes.reshape(-1)):\n",
    "    ax.title.set_text(info_df.columns[i])\n",
    "    info_df[info_df.columns[i]].value_counts().sort_index().plot(kind='bar', ax=ax)\n",
    "plt.show()"
   ]
  },
  {
   "cell_type": "markdown",
   "metadata": {},
   "source": [
    "## Percentages of pixels in labeled images grouped by the patient groups\n"
   ]
  },
  {
   "cell_type": "code",
   "execution_count": null,
   "metadata": {},
   "outputs": [],
   "source": [
    "from utils.data_utils.data_utils import get_label_percentages\n",
    "percs = []\n",
    "for l in acdc_data[1]:\n",
    "    lp = get_label_percentages(l[0])\n",
    "    lp.append(l[1])\n",
    "    lp.append(l[2])\n",
    "    percs.append(lp)\n"
   ]
  },
  {
   "cell_type": "code",
   "execution_count": null,
   "metadata": {},
   "outputs": [],
   "source": [
    "columns = ['background','RV','myocardium','LV','Group','Phase']\n",
    "percs_df = pd.DataFrame(percs, columns=columns)\n",
    "\n",
    "types = ['float32', 'float32', 'float32', 'float32', 'string', 'string']\n",
    "column_types_dict = dict(zip(percs_df.columns, types))\n",
    "percs_df = percs_df.astype(column_types_dict)\n",
    "\n",
    "value_columns = percs_df.columns[0:4]\n",
    "percs_df['Group'].value_counts()"
   ]
  },
  {
   "cell_type": "code",
   "execution_count": null,
   "metadata": {},
   "outputs": [],
   "source": [
    "groups = info_df['Group'].value_counts().index\n",
    "fig, axes = plt.subplots(2,3, figsize=(16,8))\n",
    "for i, ax in enumerate(axes.reshape(-1)):\n",
    "    if i < 5:\n",
    "        ax.title.set_text(groups[i])\n",
    "        data = percs_df[percs_df['Group'] == groups[i]]\n",
    "        data = data[value_columns].mean()\n",
    "        labels = []\n",
    "        for l, v in zip(data.index , data.values):\n",
    "            labels.append(format(v, \".2%\") + \" \" + l)\n",
    "        ax.pie(data.values, radius=1)\n",
    "        ax.legend(labels, bbox_to_anchor=(0.9, 1), prop={'family': 'DejaVu Sans Mono'})\n",
    "    else:\n",
    "        ax.set_visible(False)\n",
    "plt.show()"
   ]
  },
  {
   "cell_type": "code",
   "execution_count": null,
   "metadata": {},
   "outputs": [],
   "source": [
    "percs_df['Phase'].value_counts()"
   ]
  },
  {
   "cell_type": "code",
   "execution_count": null,
   "metadata": {},
   "outputs": [],
   "source": [
    "phases = percs_df['Phase'].value_counts().index\n",
    "fig, axes = plt.subplots(1,2, figsize=(16,8))\n",
    "for i, ax in enumerate(axes.reshape(-1)):\n",
    "    ax.title.set_text(phases[i])\n",
    "    data = percs_df[percs_df['Phase'] == phases[i]]\n",
    "    data = data[value_columns].mean()\n",
    "    labels = []\n",
    "    for l, v in zip(data.index , data.values):\n",
    "        labels.append(format(v, \".2%\") + \" \" + l)\n",
    "    ax.pie(data.values, radius=1)\n",
    "    ax.legend(labels, bbox_to_anchor=(0.9, 1), prop={'family': 'DejaVu Sans Mono'})\n",
    "plt.show()"
   ]
  },
  {
   "cell_type": "markdown",
   "metadata": {},
   "source": [
    "### Variance of percentages"
   ]
  },
  {
   "cell_type": "code",
   "execution_count": null,
   "metadata": {},
   "outputs": [],
   "source": [
    "percs_df[value_columns].std()"
   ]
  }
 ],
 "metadata": {
  "kernelspec": {
   "display_name": "Python 3 (ipykernel)",
   "language": "python",
   "name": "python3"
  },
  "language_info": {
   "codemirror_mode": {
    "name": "ipython",
    "version": 3
   },
   "file_extension": ".py",
   "mimetype": "text/x-python",
   "name": "python",
   "nbconvert_exporter": "python",
   "pygments_lexer": "ipython3",
   "version": "3.9.7"
  }
 },
 "nbformat": 4,
 "nbformat_minor": 4
}
